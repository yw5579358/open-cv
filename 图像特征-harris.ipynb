{
 "cells": [
  {
   "cell_type": "markdown",
   "metadata": {},
   "source": [
    "### 图像特征-harris角点检测\n",
    "\n"
   ]
  },
  {
   "cell_type": "markdown",
   "metadata": {
    "collapsed": true
   },
   "source": "![title](img/harris_1.png)"
  },
  {
   "cell_type": "markdown",
   "metadata": {},
   "source": [
    "#### 基本原理"
   ]
  },
  {
   "cell_type": "markdown",
   "metadata": {},
   "source": "![title](img/harris_2.png)"
  },
  {
   "cell_type": "markdown",
   "metadata": {},
   "source": "![title](img/harris_9.png)"
  },
  {
   "cell_type": "markdown",
   "metadata": {},
   "source": "![title](img/harris_4.png)"
  },
  {
   "cell_type": "markdown",
   "metadata": {},
   "source": "![title](img/harris_5.png)"
  },
  {
   "cell_type": "markdown",
   "metadata": {},
   "source": "![title](img/harris_6.png)"
  },
  {
   "cell_type": "markdown",
   "metadata": {},
   "source": "![title](img/harris_11.png)"
  },
  {
   "cell_type": "markdown",
   "metadata": {},
   "source": [
    "#### cv2.cornerHarris() \n",
    "- img： 数据类型为 ﬂoat32 的入图像\n",
    "- blockSize： 角点检测中指定区域的大小\n",
    "- ksize： Sobel求导中使用的窗口大小 \n",
    "- k： 取值参数为 [0,04,0.06]"
   ]
  },
  {
   "cell_type": "code",
   "metadata": {
    "ExecuteTime": {
     "end_time": "2025-04-25T03:07:10.295474Z",
     "start_time": "2025-04-25T03:07:10.220432Z"
    }
   },
   "source": [
    "import cv2 \n",
    "import numpy as np\n",
    "\n",
    "img = cv2.imread('img/test_1.jpg')\n",
    "print ('img.shape:',img.shape)\n",
    "gray = cv2.cvtColor(img, cv2.COLOR_BGR2GRAY)\n",
    "# gray = np.float32(gray)\n",
    "dst = cv2.cornerHarris(gray, blockSize=2, ksize=3, k=0.04)\n",
    "print ('dst.shape:',dst.shape)"
   ],
   "outputs": [
    {
     "name": "stdout",
     "output_type": "stream",
     "text": [
      "img.shape: (800, 1200, 3)\n",
      "dst.shape: (800, 1200)\n"
     ]
    }
   ],
   "execution_count": 2
  },
  {
   "cell_type": "code",
   "metadata": {
    "collapsed": true,
    "ExecuteTime": {
     "end_time": "2025-04-25T03:07:24.140141Z",
     "start_time": "2025-04-25T03:07:13.590433Z"
    }
   },
   "source": [
    "img[dst>0.01*dst.max()]=[0,0,255]\n",
    "cv2.imshow('dst',img) \n",
    "cv2.waitKey(0) \n",
    "cv2.destroyAllWindows()\n"
   ],
   "outputs": [],
   "execution_count": 3
  },
  {
   "cell_type": "code",
   "execution_count": null,
   "metadata": {
    "collapsed": true
   },
   "outputs": [],
   "source": []
  }
 ],
 "metadata": {
  "kernelspec": {
   "display_name": "Python 3",
   "language": "python",
   "name": "python3"
  },
  "language_info": {
   "codemirror_mode": {
    "name": "ipython",
    "version": 3
   },
   "file_extension": ".py",
   "mimetype": "text/x-python",
   "name": "python",
   "nbconvert_exporter": "python",
   "pygments_lexer": "ipython3",
   "version": "3.6.3"
  }
 },
 "nbformat": 4,
 "nbformat_minor": 2
}
