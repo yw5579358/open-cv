{
 "cells": [
  {
   "metadata": {},
   "cell_type": "markdown",
   "source": [
    "### 光流估计\n",
    "\n",
    "光流是空间运动物体在观测成像平面上的像素运动的“瞬时速度”，根据各个像素点的速度矢量特征，可以对图像进行动态分析，例如目标跟踪。\n",
    "\n",
    "- 亮度恒定：同一点随着时间的变化，其亮度不会发生改变。\n",
    "\n",
    "- 小运动：随着时间的变化不会引起位置的剧烈变化，只有小运动情况下才能用前后帧之间单位位置变化引起的灰度变化去近似灰度对位置的偏导数。\n",
    "\n",
    "- 空间一致：一个场景上邻近的点投影到图像上也是邻近点，且邻近点速度一致。因为光流法基本方程约束只有一个，而要求x，y方向的速度，有两个未知变量。所以需要连立n多个方程求解。\n"
   ],
   "id": "b9e716fb068f8eaf"
  },
  {
   "metadata": {},
   "cell_type": "markdown",
   "source": "![title](img/lk_2.png)",
   "id": "fd557d42fc91271c"
  },
  {
   "metadata": {},
   "cell_type": "markdown",
   "source": "![title](img/lk_1.png)",
   "id": "3e3c470a9ac8753f"
  },
  {
   "metadata": {},
   "cell_type": "markdown",
   "source": [
    "### Lucas-Kanade 算法\n",
    "\n",
    "![title](img/lk_3.png)"
   ],
   "id": "d484ae19ceec26a2"
  },
  {
   "metadata": {},
   "cell_type": "markdown",
   "source": "如何求解方程组呢？看起来一个像素点根本不够，在物体移动过程中还有哪些特性呢？",
   "id": "f26c2e04c49dd6a7"
  },
  {
   "metadata": {},
   "cell_type": "markdown",
   "source": "![title](img/lk_4.png)",
   "id": "33c21bdedd5ffde0"
  },
  {
   "metadata": {},
   "cell_type": "markdown",
   "source": [
    "### cv2.calcOpticalFlowPyrLK():\n",
    "参数：\n",
    "- prevImage 前一帧图像\n",
    "\n",
    "- nextImage 当前帧图像\n",
    "\n",
    "- prevPts 待跟踪的特征点向量\n",
    "\n",
    "- winSize 搜索窗口的大小\n",
    "\n",
    "- maxLevel 最大的金字塔层数\n",
    "\n",
    "返回：\n",
    "\n",
    "- nextPts 输出跟踪特征点向量\n",
    "\n",
    "- status 特征点是否找到，找到的状态为1，未找到的状态为0"
   ],
   "id": "6759bb29c51decda"
  },
  {
   "metadata": {
    "ExecuteTime": {
     "end_time": "2025-04-28T08:56:16.537681Z",
     "start_time": "2025-04-28T08:55:54.001836Z"
    }
   },
   "cell_type": "code",
   "source": [
    "import numpy as np\n",
    "import cv2\n",
    "\n",
    "cap = cv2.VideoCapture('img/test.avi')\n",
    "#角点检测参数  maxCorners=100\t角点数量上限 qualityLevel=0.3\t角点最小质量\t取值范围是 0~1，表示角点的“最差可接受质量”，minDistance=7\t最小间距\t指定每两个角点之间至少要有 7 个像素的距离\n",
    "feature_params = dict(\n",
    "    maxCorners=50,\n",
    "    qualityLevel=0.3,\n",
    "    minDistance=7,\n",
    ")\n",
    "# lucas kanade参数  winSize=(15, 15)\t光流窗口大小\t每次跟踪时，在特征点周围取一个 15×15 像素的小窗口，  maxLevel=2\t金字塔层数\t使用金字塔（Pyramid）分层方法来加速和稳定光流计算\n",
    "lk_params = dict(winSize=(15, 15),\n",
    "                 maxLevel=2)\n",
    "color = np.random.randint(0,255,(100,3))\n",
    "ret,old_frame=cap.read()\n",
    "old_gray=cv2.cvtColor(old_frame,cv2.COLOR_BGR2GRAY)\n",
    "# 返回所有检测特征点，需要输入图像，角点最大数量（效率），品质因子（特征值越大的越好，来筛选）\n",
    "# 距离相当于这区间有比这个角点强的，就不要这个弱的了\n",
    "p0=cv2.goodFeaturesToTrack(old_gray,mask=None,**feature_params)\n",
    "\n",
    "mask=np.zeros_like(old_frame)\n",
    "\n",
    "while True:\n",
    "    _,frame=cap.read()\n",
    "    if frame is None: break\n",
    "    frame_gray=cv2.cvtColor(frame,cv2.COLOR_BGR2GRAY)\n",
    "    #基于前一帧合当前帧图像,以及前一帧图像角点(特征点) err是误差，越小代表跟踪越精确\n",
    "    p1,st,err=cv2.calcOpticalFlowPyrLK(old_gray,frame_gray,p0,None,**lk_params)\n",
    "    #st\t每个特征点的状态：1=跟踪成功，0=跟丢了\n",
    "    good_new=p1[st==1]\n",
    "    good_old =p0[st==1]\n",
    "    #绘制轨迹\n",
    "    for i,(new,old) in enumerate(zip(good_new,good_old)):\n",
    "        #ravel 拉平成一维数组，x 合y坐标\n",
    "        a,b=new.ravel()\n",
    "        c,d = old.ravel()\n",
    "        #需要讲坐标转为int\n",
    "        mask = cv2.line(mask, (int(a), int(b)), (int(c), int(d)), color[i].tolist(), 2)\n",
    "        frame=cv2.circle(frame,(int(a), int(b)),5,color[i].tolist(),-1)\n",
    "    img = cv2.add(frame,mask)\n",
    "    \n",
    "    cv2.imshow('frame',img)\n",
    "    k = cv2.waitKey(150) & 0xff\n",
    "    if k == 27:\n",
    "        break\n",
    "    #更新旧帧为当前帧\n",
    "    old_gray=frame_gray.copy()\n",
    "    #只保留追踪到的\n",
    "    p0=good_new.reshape(-1,1,2)\n",
    "cv2.destroyAllWindows()\n",
    "cap.release()"
   ],
   "id": "b48cff666e7fe5a1",
   "outputs": [],
   "execution_count": 12
  }
 ],
 "metadata": {
  "kernelspec": {
   "display_name": "Python 3",
   "language": "python",
   "name": "python3"
  },
  "language_info": {
   "codemirror_mode": {
    "name": "ipython",
    "version": 2
   },
   "file_extension": ".py",
   "mimetype": "text/x-python",
   "name": "python",
   "nbconvert_exporter": "python",
   "pygments_lexer": "ipython2",
   "version": "2.7.6"
  }
 },
 "nbformat": 4,
 "nbformat_minor": 5
}
